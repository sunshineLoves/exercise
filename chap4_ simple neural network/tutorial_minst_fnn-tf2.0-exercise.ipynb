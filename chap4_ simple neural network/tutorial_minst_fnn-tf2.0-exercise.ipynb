{
 "cells": [
  {
   "cell_type": "markdown",
   "metadata": {},
   "source": [
    "## 准备数据"
   ]
  },
  {
   "cell_type": "code",
   "execution_count": 37,
   "metadata": {
    "ExecuteTime": {
     "end_time": "2024-03-13T17:35:37.895799Z",
     "start_time": "2024-03-13T17:35:37.878227Z"
    }
   },
   "outputs": [],
   "source": [
    "import os\n",
    "import numpy as np\n",
    "import tensorflow as tf\n",
    "from tensorflow import keras\n",
    "from tensorflow.keras import layers, optimizers, datasets\n",
    "\n",
    "os.environ['TF_CPP_MIN_LOG_LEVEL'] = '2'  # or any {'0', '1', '2'}\n",
    "\n",
    "def mnist_dataset():\n",
    "    (x, y), (x_test, y_test) = datasets.mnist.load_data()\n",
    "    #normalize\n",
    "    x = x/255.0\n",
    "    x_test = x_test/255.0\n",
    "    \n",
    "    return (x, y), (x_test, y_test)"
   ]
  },
  {
   "cell_type": "code",
   "execution_count": 38,
   "metadata": {
    "ExecuteTime": {
     "end_time": "2024-03-13T17:35:37.911518Z",
     "start_time": "2024-03-13T17:35:37.899175Z"
    }
   },
   "outputs": [
    {
     "name": "stdout",
     "output_type": "stream",
     "text": [
      "[(1, 'a'), (2, 'b'), (3, 'c'), (4, 'd')]\n"
     ]
    }
   ],
   "source": [
    "print(list(zip([1, 2, 3, 4], ['a', 'b', 'c', 'd'])))"
   ]
  },
  {
   "cell_type": "markdown",
   "metadata": {},
   "source": [
    "## 建立模型"
   ]
  },
  {
   "cell_type": "code",
   "execution_count": 39,
   "metadata": {
    "ExecuteTime": {
     "end_time": "2024-03-13T17:35:37.942349Z",
     "start_time": "2024-03-13T17:35:37.913662Z"
    }
   },
   "outputs": [],
   "source": [
    "class myModel:\n",
    "    def __init__(self):\n",
    "        ####################\n",
    "        '''声明模型对应的参数'''\n",
    "        ####################\n",
    "        self.W1 = tf.Variable(tf.random.normal([784, 256]))  # 第一个全连接层的权重矩阵，输入大小为 784，输出大小为 128\n",
    "        self.b1 = tf.Variable(tf.zeros([256]))               # 第一个全连接层的偏置向量，大小为 128\n",
    "        self.W2 = tf.Variable(tf.random.normal([256, 128]))  # 第二个全连接层的权重矩阵，输入大小为 128，输出大小为 10\n",
    "        self.b2 = tf.Variable(tf.zeros([128]))               # 第二个全连接层的偏置向量，大小为 10\n",
    "        self.W3 = tf.Variable(tf.random.normal([128, 10]))   # 第二个全连接层的权重矩阵，输入大小为 128，输出大小为 10\n",
    "        self.b3 = tf.Variable(tf.zeros([10]))                # 第二个全连接层的偏置向量，大小为 10\n",
    "        \n",
    "    def __call__(self, x):\n",
    "        ####################\n",
    "        '''实现模型函数体，返回未归一化的logits'''\n",
    "        ####################\n",
    "        x = tf.reshape(x, [-1, 28*28])  # 将输入 x 展平成大小为 (batch_size, 28*28) 的张量\n",
    "        x = tf.matmul(x, self.W1) + self.b1  # 第一个全连接层，加上偏置项\n",
    "        x = tf.nn.relu(x)                    # 使用 ReLU 激活函数\n",
    "        x = tf.matmul(x, self.W2) + self.b2  # 第二个全连接层，加上偏置项\n",
    "        x = tf.nn.relu(x)\n",
    "        logits = tf.matmul(x, self.W3) + self.b3\n",
    "        return logits\n",
    "        \n",
    "model = myModel()\n",
    "\n",
    "optimizer = optimizers.Adam()"
   ]
  },
  {
   "cell_type": "markdown",
   "metadata": {},
   "source": [
    "## 计算 loss"
   ]
  },
  {
   "cell_type": "code",
   "execution_count": 40,
   "metadata": {
    "ExecuteTime": {
     "end_time": "2024-03-13T17:35:37.973081Z",
     "start_time": "2024-03-13T17:35:37.944527Z"
    }
   },
   "outputs": [],
   "source": [
    "@tf.function\n",
    "def compute_loss(logits, labels):\n",
    "    return tf.reduce_mean(\n",
    "        tf.nn.sparse_softmax_cross_entropy_with_logits(\n",
    "            logits=logits, labels=labels))\n",
    "\n",
    "@tf.function\n",
    "def compute_accuracy(logits, labels):\n",
    "    predictions = tf.argmax(logits, axis=1)\n",
    "    return tf.reduce_mean(tf.cast(tf.equal(predictions, labels), tf.float32))\n",
    "\n",
    "@tf.function\n",
    "def train_one_step(model, optimizer, x, y):\n",
    "    with tf.GradientTape() as tape:\n",
    "        logits = model(x)\n",
    "        loss = compute_loss(logits, y)\n",
    "\n",
    "    # compute gradient\n",
    "    trainable_vars = [model.W1, model.W2, model.W3, model.b1, model.b2, model.b3]\n",
    "    grads = tape.gradient(loss, trainable_vars)\n",
    "    for g, v in zip(grads, trainable_vars):\n",
    "        v.assign_sub(0.01*g)\n",
    "\n",
    "    accuracy = compute_accuracy(logits, y)\n",
    "\n",
    "    # loss and accuracy is scalar tensor\n",
    "    return loss, accuracy\n",
    "\n",
    "@tf.function\n",
    "def test(model, x, y):\n",
    "    logits = model(x)\n",
    "    loss = compute_loss(logits, y)\n",
    "    accuracy = compute_accuracy(logits, y)\n",
    "    return loss, accuracy"
   ]
  },
  {
   "cell_type": "markdown",
   "metadata": {},
   "source": [
    "## 实际训练"
   ]
  },
  {
   "cell_type": "code",
   "execution_count": 41,
   "metadata": {
    "ExecuteTime": {
     "end_time": "2024-03-13T17:36:23.326845Z",
     "start_time": "2024-03-13T17:35:37.976472Z"
    }
   },
   "outputs": [
    {
     "name": "stdout",
     "output_type": "stream",
     "text": [
      "epoch 0 : loss 2027.955 ; accuracy 0.09481667\n",
      "epoch 1 : loss 1030.053 ; accuracy 0.15226667\n",
      "epoch 2 : loss 768.59753 ; accuracy 0.15981667\n",
      "epoch 3 : loss 619.1888 ; accuracy 0.19991666\n",
      "epoch 4 : loss 472.53177 ; accuracy 0.29031667\n",
      "epoch 5 : loss 321.302 ; accuracy 0.32691666\n",
      "epoch 6 : loss 261.53857 ; accuracy 0.38018334\n",
      "epoch 7 : loss 211.50824 ; accuracy 0.40086666\n",
      "epoch 8 : loss 177.8928 ; accuracy 0.44778332\n",
      "epoch 9 : loss 156.77013 ; accuracy 0.47176668\n",
      "epoch 10 : loss 144.18077 ; accuracy 0.49863333\n",
      "epoch 11 : loss 134.30977 ; accuracy 0.51388335\n",
      "epoch 12 : loss 126.15695 ; accuracy 0.5326167\n",
      "epoch 13 : loss 119.18544 ; accuracy 0.54606664\n",
      "epoch 14 : loss 113.17845 ; accuracy 0.56048334\n",
      "epoch 15 : loss 107.9393 ; accuracy 0.5732\n",
      "epoch 16 : loss 103.31987 ; accuracy 0.5847\n",
      "epoch 17 : loss 99.20422 ; accuracy 0.59398335\n",
      "epoch 18 : loss 95.49662 ; accuracy 0.60258335\n",
      "epoch 19 : loss 92.13365 ; accuracy 0.6110167\n",
      "epoch 20 : loss 89.07394 ; accuracy 0.6183\n",
      "epoch 21 : loss 86.2768 ; accuracy 0.62593335\n",
      "epoch 22 : loss 83.708176 ; accuracy 0.63193333\n",
      "epoch 23 : loss 81.33929 ; accuracy 0.6385\n",
      "epoch 24 : loss 79.14704 ; accuracy 0.64468336\n",
      "epoch 25 : loss 77.11367 ; accuracy 0.65021664\n",
      "epoch 26 : loss 75.21821 ; accuracy 0.65575\n",
      "epoch 27 : loss 73.44908 ; accuracy 0.6612667\n",
      "epoch 28 : loss 71.79417 ; accuracy 0.666\n",
      "epoch 29 : loss 70.23921 ; accuracy 0.67006665\n",
      "epoch 30 : loss 68.770424 ; accuracy 0.67431664\n",
      "epoch 31 : loss 67.379 ; accuracy 0.6782167\n",
      "epoch 32 : loss 66.060265 ; accuracy 0.6821333\n",
      "epoch 33 : loss 64.8119 ; accuracy 0.6858\n",
      "epoch 34 : loss 63.62494 ; accuracy 0.68911666\n",
      "epoch 35 : loss 62.492584 ; accuracy 0.6924667\n",
      "epoch 36 : loss 61.411335 ; accuracy 0.6954\n",
      "epoch 37 : loss 60.379105 ; accuracy 0.69916666\n",
      "epoch 38 : loss 59.39619 ; accuracy 0.7022333\n",
      "epoch 39 : loss 58.455944 ; accuracy 0.70488334\n",
      "epoch 40 : loss 57.551796 ; accuracy 0.7078\n",
      "epoch 41 : loss 56.68264 ; accuracy 0.7104167\n",
      "epoch 42 : loss 55.84736 ; accuracy 0.71348333\n",
      "epoch 43 : loss 55.046883 ; accuracy 0.7166\n",
      "epoch 44 : loss 54.280273 ; accuracy 0.71938336\n",
      "epoch 45 : loss 53.544083 ; accuracy 0.72186667\n",
      "epoch 46 : loss 52.833897 ; accuracy 0.7241167\n",
      "epoch 47 : loss 52.148094 ; accuracy 0.72643334\n",
      "epoch 48 : loss 51.484543 ; accuracy 0.7286\n",
      "epoch 49 : loss 50.843113 ; accuracy 0.7302167\n",
      "test loss 50.761047 ; accuracy 0.7351\n"
     ]
    }
   ],
   "source": [
    "train_data, test_data = mnist_dataset()\n",
    "for epoch in range(50):\n",
    "    loss, accuracy = train_one_step(model, optimizer, \n",
    "                                    tf.constant(train_data[0], dtype=tf.float32), \n",
    "                                    tf.constant(train_data[1], dtype=tf.int64))\n",
    "    print('epoch', epoch, ': loss', loss.numpy(), '; accuracy', accuracy.numpy())\n",
    "loss, accuracy = test(model, \n",
    "                      tf.constant(test_data[0], dtype=tf.float32), \n",
    "                      tf.constant(test_data[1], dtype=tf.int64))\n",
    "\n",
    "print('test loss', loss.numpy(), '; accuracy', accuracy.numpy())"
   ]
  }
 ],
 "metadata": {
  "kernelspec": {
   "display_name": "Python 3",
   "language": "python",
   "name": "python3"
  },
  "language_info": {
   "codemirror_mode": {
    "name": "ipython",
    "version": 3
   },
   "file_extension": ".py",
   "mimetype": "text/x-python",
   "name": "python",
   "nbconvert_exporter": "python",
   "pygments_lexer": "ipython3",
   "version": "3.9.18"
  }
 },
 "nbformat": 4,
 "nbformat_minor": 2
}
