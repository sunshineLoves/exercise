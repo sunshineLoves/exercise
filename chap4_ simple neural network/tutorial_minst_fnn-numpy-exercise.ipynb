{
 "cells": [
  {
   "cell_type": "markdown",
   "metadata": {},
   "source": [
    "## 准备数据"
   ]
  },
  {
   "cell_type": "code",
   "execution_count": 1,
   "metadata": {
    "ExecuteTime": {
     "end_time": "2024-03-13T17:18:32.910337Z",
     "start_time": "2024-03-13T17:18:26.831235Z"
    }
   },
   "outputs": [],
   "source": [
    "import os\n",
    "import numpy as np\n",
    "import tensorflow as tf\n",
    "from tensorflow import keras\n",
    "from tensorflow.keras import layers, optimizers, datasets\n",
    "\n",
    "os.environ['TF_CPP_MIN_LOG_LEVEL'] = '2'  # or any {'0', '1', '2'}\n",
    "\n",
    "def mnist_dataset():\n",
    "    (x, y), (x_test, y_test) = datasets.mnist.load_data()\n",
    "    #normalize\n",
    "    x = x/255.0\n",
    "    x_test = x_test/255.0\n",
    "    \n",
    "    return (x, y), (x_test, y_test)"
   ]
  },
  {
   "cell_type": "markdown",
   "metadata": {},
   "source": [
    "## Demo numpy based auto differentiation"
   ]
  },
  {
   "cell_type": "code",
   "execution_count": 2,
   "metadata": {
    "ExecuteTime": {
     "end_time": "2024-03-13T17:18:35.111158Z",
     "start_time": "2024-03-13T17:18:35.087055Z"
    }
   },
   "outputs": [],
   "source": [
    "import numpy as np\n",
    "\n",
    "class Matmul:\n",
    "    def __init__(self):\n",
    "        self.mem = {}\n",
    "        \n",
    "    def forward(self, x, W):\n",
    "        h = np.matmul(x, W)\n",
    "        self.mem={'x': x, 'W':W}\n",
    "        return h\n",
    "    \n",
    "    def backward(self, grad_y):\n",
    "        '''\n",
    "        x: shape(N, d)\n",
    "        w: shape(d, d')\n",
    "        grad_y: shape(N, d')\n",
    "        '''\n",
    "        x = self.mem['x']\n",
    "        W = self.mem['W']\n",
    "        ####################\n",
    "        '''计算矩阵乘法的对应的梯度'''\n",
    "        ####################\n",
    "        grad_x = np.matmul(grad_y, W.T)\n",
    "        grad_W = np.matmul(x.T, grad_y)\n",
    "        return grad_x, grad_W\n",
    "\n",
    "\n",
    "class Relu:\n",
    "    def __init__(self):\n",
    "        self.mem = {}\n",
    "        \n",
    "    def forward(self, x):\n",
    "        self.mem['x']=x\n",
    "        return np.where(x > 0, x, np.zeros_like(x))\n",
    "    \n",
    "    def backward(self, grad_y):\n",
    "        '''\n",
    "        grad_y: same shape as x\n",
    "        '''\n",
    "        ####################\n",
    "        '''计算relu 激活函数对应的梯度'''\n",
    "        ####################\n",
    "        x = self.mem['x']\n",
    "        grad_x = np.where(x > 0, grad_y, 0)\n",
    "        return grad_x\n",
    "    \n",
    "\n",
    "\n",
    "class Softmax:\n",
    "    '''\n",
    "    softmax over last dimention\n",
    "    '''\n",
    "    def __init__(self):\n",
    "        self.epsilon = 1e-12\n",
    "        self.mem = {}\n",
    "        \n",
    "    def forward(self, x):\n",
    "        '''\n",
    "        x: shape(N, c)\n",
    "        '''\n",
    "        x_exp = np.exp(x)\n",
    "        partition = np.sum(x_exp, axis=1, keepdims=True)\n",
    "        out = x_exp/(partition+self.epsilon)\n",
    "        \n",
    "        self.mem['out'] = out\n",
    "        self.mem['x_exp'] = x_exp\n",
    "        return out\n",
    "    \n",
    "    def backward(self, grad_y):\n",
    "        '''\n",
    "        grad_y: same shape as x\n",
    "        '''\n",
    "        s = self.mem['out']\n",
    "        sisj = np.matmul(np.expand_dims(s,axis=2), np.expand_dims(s, axis=1)) # (N, c, c)\n",
    "        g_y_exp = np.expand_dims(grad_y, axis=1)\n",
    "        tmp = np.matmul(g_y_exp, sisj) #(N, 1, c)\n",
    "        tmp = np.squeeze(tmp, axis=1)\n",
    "        tmp = -tmp+grad_y*s \n",
    "        return tmp\n",
    "    \n",
    "class Log:\n",
    "    '''\n",
    "    softmax over last dimention\n",
    "    '''\n",
    "    def __init__(self):\n",
    "        self.epsilon = 1e-12\n",
    "        self.mem = {}\n",
    "        \n",
    "    def forward(self, x):\n",
    "        '''\n",
    "        x: shape(N, c)\n",
    "        '''\n",
    "        out = np.log(x+self.epsilon)\n",
    "        \n",
    "        self.mem['x'] = x\n",
    "        return out\n",
    "    \n",
    "    def backward(self, grad_y):\n",
    "        '''\n",
    "        grad_y: same shape as x\n",
    "        '''\n",
    "        x = self.mem['x']\n",
    "        \n",
    "        return 1./(x+1e-12) * grad_y\n",
    "    \n"
   ]
  },
  {
   "cell_type": "markdown",
   "metadata": {},
   "source": [
    "## Gradient check"
   ]
  },
  {
   "cell_type": "code",
   "execution_count": 3,
   "metadata": {
    "ExecuteTime": {
     "end_time": "2024-03-13T17:18:09.994129Z",
     "start_time": "2024-03-13T17:18:09.967133Z"
    }
   },
   "outputs": [
    {
     "name": "stdout",
     "output_type": "stream",
     "text": [
      "(array([[ 1.60894409, -1.02726224, -2.6290559 ,  2.09734471,  1.16480929,\n",
      "        -0.96493527],\n",
      "       [ 1.60894409, -1.02726224, -2.6290559 ,  2.09734471,  1.16480929,\n",
      "        -0.96493527],\n",
      "       [ 1.60894409, -1.02726224, -2.6290559 ,  2.09734471,  1.16480929,\n",
      "        -0.96493527],\n",
      "       [ 1.60894409, -1.02726224, -2.6290559 ,  2.09734471,  1.16480929,\n",
      "        -0.96493527],\n",
      "       [ 1.60894409, -1.02726224, -2.6290559 ,  2.09734471,  1.16480929,\n",
      "        -0.96493527]]), array([[ 5.50798695,  5.50798695,  5.50798695,  5.50798695],\n",
      "       [ 2.47651141,  2.47651141,  2.47651141,  2.47651141],\n",
      "       [-1.64501227, -1.64501227, -1.64501227, -1.64501227],\n",
      "       [ 1.14569108,  1.14569108,  1.14569108,  1.14569108],\n",
      "       [-4.00160043, -4.00160043, -4.00160043, -4.00160043],\n",
      "       [ 1.05012632,  1.05012632,  1.05012632,  1.05012632]]))\n"
     ]
    }
   ],
   "source": [
    "import tensorflow as tf\n",
    "\n",
    "# x = np.random.normal(size=[5, 6])\n",
    "# W = np.random.normal(size=[6, 4])\n",
    "# aa = Matmul()\n",
    "# out = aa.forward(x, W) # shape(5, 4)\n",
    "# grad = aa.backward(np.ones_like(out))\n",
    "# print (grad)\n",
    "\n",
    "# with tf.GradientTape() as tape:\n",
    "#     x, W = tf.constant(x), tf.constant(W)\n",
    "#     tape.watch(x)\n",
    "#     y = tf.matmul(x, W)\n",
    "#     loss = tf.reduce_sum(y)\n",
    "#     grads = tape.gradient(loss, x)\n",
    "#     print (grads)\n",
    "\n",
    "# import tensorflow as tf\n",
    "\n",
    "# x = np.random.normal(size=[5, 6])\n",
    "# aa = Relu()\n",
    "# out = aa.forward(x) # shape(5, 4)\n",
    "# grad = aa.backward(np.ones_like(out))\n",
    "# print (grad)\n",
    "\n",
    "# with tf.GradientTape() as tape:\n",
    "#     x= tf.constant(x)\n",
    "#     tape.watch(x)\n",
    "#     y = tf.nn.relu(x)\n",
    "#     loss = tf.reduce_sum(y)\n",
    "#     grads = tape.gradient(loss, x)\n",
    "#     print (grads)\n",
    "\n",
    "# import tensorflow as tf\n",
    "# x = np.random.normal(size=[5, 6], scale=5.0, loc=1)\n",
    "# label = np.zeros_like(x)\n",
    "# label[0, 1]=1.\n",
    "# label[1, 0]=1\n",
    "# label[1, 1]=1\n",
    "# label[2, 3]=1\n",
    "# label[3, 5]=1\n",
    "# label[4, 0]=1\n",
    "# print(label)\n",
    "# aa = Softmax()\n",
    "# out = aa.forward(x) # shape(5, 6)\n",
    "# grad = aa.backward(label)\n",
    "# print (grad)\n",
    "\n",
    "# with tf.GradientTape() as tape:\n",
    "#     x= tf.constant(x)\n",
    "#     tape.watch(x)\n",
    "#     y = tf.nn.softmax(x)\n",
    "#     loss = tf.reduce_sum(y*label)\n",
    "#     grads = tape.gradient(loss, x)\n",
    "#     print (grads)\n",
    "\n",
    "# import tensorflow as tf\n",
    "\n",
    "# x = np.random.normal(size=[5, 6])\n",
    "# aa = Log()\n",
    "# out = aa.forward(x) # shape(5, 4)\n",
    "# grad = aa.backward(label)\n",
    "# print (grad)\n",
    "\n",
    "# with tf.GradientTape() as tape:\n",
    "#     x= tf.constant(x)\n",
    "#     tape.watch(x)\n",
    "#     y = tf.math.log(x)\n",
    "#     loss = tf.reduce_sum(y*label)\n",
    "#     grads = tape.gradient(loss, x)\n",
    "#     print (grads)"
   ]
  },
  {
   "cell_type": "markdown",
   "metadata": {},
   "source": [
    "# Final Gradient Check"
   ]
  },
  {
   "cell_type": "code",
   "execution_count": 4,
   "metadata": {
    "ExecuteTime": {
     "end_time": "2024-03-13T17:11:11.977335Z",
     "start_time": "2024-03-13T17:11:11.883942Z"
    }
   },
   "outputs": [
    {
     "name": "stdout",
     "output_type": "stream",
     "text": [
      "[[0.00000000e+00 1.15675379e+00 0.00000000e+00 0.00000000e+00\n",
      "  0.00000000e+00 0.00000000e+00]\n",
      " [4.54911277e+00 0.00000000e+00 0.00000000e+00 0.00000000e+00\n",
      "  0.00000000e+00 0.00000000e+00]\n",
      " [0.00000000e+00 0.00000000e+00 0.00000000e+00 1.70433983e+03\n",
      "  0.00000000e+00 0.00000000e+00]\n",
      " [0.00000000e+00 0.00000000e+00 0.00000000e+00 0.00000000e+00\n",
      "  0.00000000e+00 1.30145180e+03]\n",
      " [6.40711107e+00 0.00000000e+00 0.00000000e+00 0.00000000e+00\n",
      "  0.00000000e+00 0.00000000e+00]]\n",
      "----------------------------------------\n",
      "[[0.00000000e+00 1.15675379e+00 0.00000000e+00 0.00000000e+00\n",
      "  0.00000000e+00 0.00000000e+00]\n",
      " [4.54911277e+00 0.00000000e+00 0.00000000e+00 0.00000000e+00\n",
      "  0.00000000e+00 0.00000000e+00]\n",
      " [0.00000000e+00 0.00000000e+00 0.00000000e+00 1.70433983e+03\n",
      "  0.00000000e+00 0.00000000e+00]\n",
      " [0.00000000e+00 0.00000000e+00 0.00000000e+00 0.00000000e+00\n",
      "  0.00000000e+00 1.30145180e+03]\n",
      " [6.40711107e+00 0.00000000e+00 0.00000000e+00 0.00000000e+00\n",
      "  0.00000000e+00 0.00000000e+00]]\n"
     ]
    }
   ],
   "source": [
    "import tensorflow as tf\n",
    "\n",
    "label = np.zeros_like(x)\n",
    "label[0, 1]=1.\n",
    "label[1, 0]=1\n",
    "label[2, 3]=1\n",
    "label[3, 5]=1\n",
    "label[4, 0]=1\n",
    "\n",
    "x = np.random.normal(size=[5, 6])\n",
    "W1 = np.random.normal(size=[6, 5])\n",
    "W2 = np.random.normal(size=[5, 6])\n",
    "\n",
    "mul_h1 = Matmul()\n",
    "mul_h2 = Matmul()\n",
    "relu = Relu()\n",
    "softmax = Softmax()\n",
    "log = Log()\n",
    "\n",
    "h1 = mul_h1.forward(x, W1) # shape(5, 4)\n",
    "h1_relu = relu.forward(h1)\n",
    "h2 = mul_h2.forward(h1_relu, W2)\n",
    "h2_soft = softmax.forward(h2)\n",
    "h2_log = log.forward(h2_soft)\n",
    "\n",
    "\n",
    "h2_log_grad = log.backward(label)\n",
    "h2_soft_grad = softmax.backward(h2_log_grad)\n",
    "h2_grad, W2_grad = mul_h2.backward(h2_soft_grad)\n",
    "h1_relu_grad = relu.backward(h2_grad)\n",
    "h1_grad, W1_grad = mul_h1.backward(h1_relu_grad)\n",
    "\n",
    "print(h2_log_grad)\n",
    "print('--'*20)\n",
    "# print(W2_grad)\n",
    "\n",
    "with tf.GradientTape() as tape:\n",
    "    x, W1, W2, label = tf.constant(x), tf.constant(W1), tf.constant(W2), tf.constant(label)\n",
    "    tape.watch(W1)\n",
    "    tape.watch(W2)\n",
    "    h1 = tf.matmul(x, W1)\n",
    "    h1_relu = tf.nn.relu(h1)\n",
    "    h2 = tf.matmul(h1_relu, W2)\n",
    "    prob = tf.nn.softmax(h2)\n",
    "    log_prob = tf.math.log(prob)\n",
    "    loss = tf.reduce_sum(label * log_prob)\n",
    "    grads = tape.gradient(loss, [prob])\n",
    "    print (grads[0].numpy())"
   ]
  },
  {
   "cell_type": "markdown",
   "metadata": {},
   "source": [
    "## 建立模型"
   ]
  },
  {
   "cell_type": "code",
   "execution_count": 3,
   "metadata": {
    "ExecuteTime": {
     "end_time": "2024-03-13T17:18:50.742804Z",
     "start_time": "2024-03-13T17:18:50.725788Z"
    }
   },
   "outputs": [],
   "source": [
    "class myModel:\n",
    "    def __init__(self):\n",
    "        \n",
    "        self.W1 = np.random.normal(size=[28*28+1, 100])\n",
    "        self.W2 = np.random.normal(size=[100, 10])\n",
    "        \n",
    "        self.mul_h1 = Matmul()\n",
    "        self.mul_h2 = Matmul()\n",
    "        self.relu = Relu()\n",
    "        self.softmax = Softmax()\n",
    "        self.log = Log()\n",
    "        \n",
    "        \n",
    "    def forward(self, x):\n",
    "        x = x.reshape(-1, 28*28)\n",
    "        bias = np.ones(shape=[x.shape[0], 1])\n",
    "        x = np.concatenate([x, bias], axis=1)\n",
    "        \n",
    "        self.h1 = self.mul_h1.forward(x, self.W1) # shape(5, 4)\n",
    "        self.h1_relu = self.relu.forward(self.h1)\n",
    "        self.h2 = self.mul_h2.forward(self.h1_relu, self.W2)\n",
    "        self.h2_soft = self.softmax.forward(self.h2)\n",
    "        self.h2_log = self.log.forward(self.h2_soft)\n",
    "            \n",
    "    def backward(self, label):\n",
    "        self.h2_log_grad = self.log.backward(-label)\n",
    "        self.h2_soft_grad = self.softmax.backward(self.h2_log_grad)\n",
    "        self.h2_grad, self.W2_grad = self.mul_h2.backward(self.h2_soft_grad)\n",
    "        self.h1_relu_grad = self.relu.backward(self.h2_grad)\n",
    "        self.h1_grad, self.W1_grad = self.mul_h1.backward(self.h1_relu_grad)\n",
    "        \n",
    "model = myModel()\n"
   ]
  },
  {
   "cell_type": "markdown",
   "metadata": {},
   "source": [
    "## 计算 loss"
   ]
  },
  {
   "cell_type": "code",
   "execution_count": 4,
   "metadata": {
    "ExecuteTime": {
     "end_time": "2024-03-13T17:18:52.394365Z",
     "start_time": "2024-03-13T17:18:52.381642Z"
    }
   },
   "outputs": [],
   "source": [
    "def compute_loss(log_prob, labels):\n",
    "     return np.mean(np.sum(-log_prob*labels, axis=1))\n",
    "    \n",
    "\n",
    "def compute_accuracy(log_prob, labels):\n",
    "    predictions = np.argmax(log_prob, axis=1)\n",
    "    truth = np.argmax(labels, axis=1)\n",
    "    return np.mean(predictions==truth)\n",
    "\n",
    "def train_one_step(model, x, y):\n",
    "    model.forward(x)\n",
    "    model.backward(y)\n",
    "    model.W1 -= 1e-5* model.W1_grad\n",
    "    model.W2 -= 1e-5* model.W2_grad\n",
    "    loss = compute_loss(model.h2_log, y)\n",
    "    accuracy = compute_accuracy(model.h2_log, y)\n",
    "    return loss, accuracy\n",
    "\n",
    "def test(model, x, y):\n",
    "    model.forward(x)\n",
    "    loss = compute_loss(model.h2_log, y)\n",
    "    accuracy = compute_accuracy(model.h2_log, y)\n",
    "    return loss, accuracy"
   ]
  },
  {
   "cell_type": "markdown",
   "metadata": {},
   "source": [
    "## 实际训练"
   ]
  },
  {
   "cell_type": "code",
   "execution_count": 5,
   "metadata": {
    "ExecuteTime": {
     "end_time": "2024-03-13T17:19:43.782560Z",
     "start_time": "2024-03-13T17:18:54.246815Z"
    }
   },
   "outputs": [
    {
     "name": "stdout",
     "output_type": "stream",
     "text": [
      "epoch 0 : loss 23.42148455210662 ; accuracy 0.11146666666666667\n",
      "epoch 1 : loss 21.512290231068427 ; accuracy 0.17448333333333332\n",
      "epoch 2 : loss 20.25310001613733 ; accuracy 0.22371666666666667\n",
      "epoch 3 : loss 19.588315083455694 ; accuracy 0.24875\n",
      "epoch 4 : loss 19.097594559001724 ; accuracy 0.27\n",
      "epoch 5 : loss 18.428417187625957 ; accuracy 0.29281666666666667\n",
      "epoch 6 : loss 18.07522362941164 ; accuracy 0.3108166666666667\n",
      "epoch 7 : loss 17.637335772380823 ; accuracy 0.32535\n",
      "epoch 8 : loss 17.248397991576002 ; accuracy 0.34026666666666666\n",
      "epoch 9 : loss 16.789873839250696 ; accuracy 0.3532\n",
      "epoch 10 : loss 16.415242317139118 ; accuracy 0.36551666666666666\n",
      "epoch 11 : loss 16.228234092296287 ; accuracy 0.36716666666666664\n",
      "epoch 12 : loss 15.7502874368668 ; accuracy 0.3909166666666667\n",
      "epoch 13 : loss 15.505470054282998 ; accuracy 0.3962\n",
      "epoch 14 : loss 15.151043549119874 ; accuracy 0.4141166666666667\n",
      "epoch 15 : loss 14.894650998562131 ; accuracy 0.41983333333333334\n",
      "epoch 16 : loss 14.682802429788024 ; accuracy 0.43233333333333335\n",
      "epoch 17 : loss 14.506156533453694 ; accuracy 0.4360833333333333\n",
      "epoch 18 : loss 14.437648699417643 ; accuracy 0.44216666666666665\n",
      "epoch 19 : loss 14.304458850762774 ; accuracy 0.44411666666666666\n",
      "epoch 20 : loss 14.406595407348227 ; accuracy 0.44371666666666665\n",
      "epoch 21 : loss 14.087816445275598 ; accuracy 0.45066666666666666\n",
      "epoch 22 : loss 13.8644133896937 ; accuracy 0.45736666666666664\n",
      "epoch 23 : loss 13.66851124793628 ; accuracy 0.4592833333333333\n",
      "epoch 24 : loss 13.322681153171612 ; accuracy 0.47168333333333334\n",
      "epoch 25 : loss 12.978239812358202 ; accuracy 0.48233333333333334\n",
      "epoch 26 : loss 12.655681562521464 ; accuracy 0.49671666666666664\n",
      "epoch 27 : loss 12.456563325611544 ; accuracy 0.5036833333333334\n",
      "epoch 28 : loss 12.21043710499304 ; accuracy 0.5158833333333334\n",
      "epoch 29 : loss 12.078391488039028 ; accuracy 0.5191666666666667\n",
      "epoch 30 : loss 11.908459690767163 ; accuracy 0.5289833333333334\n",
      "epoch 31 : loss 11.831791126503544 ; accuracy 0.5304166666666666\n",
      "epoch 32 : loss 11.6760221949031 ; accuracy 0.53875\n",
      "epoch 33 : loss 11.615987118957674 ; accuracy 0.53945\n",
      "epoch 34 : loss 11.49673379796791 ; accuracy 0.5460666666666667\n",
      "epoch 35 : loss 11.447497352660449 ; accuracy 0.5471666666666667\n",
      "epoch 36 : loss 11.360988469967733 ; accuracy 0.5519666666666667\n",
      "epoch 37 : loss 11.33310853718472 ; accuracy 0.55275\n",
      "epoch 38 : loss 11.243228162810277 ; accuracy 0.5573166666666667\n",
      "epoch 39 : loss 11.232813857999641 ; accuracy 0.5574833333333333\n",
      "epoch 40 : loss 11.14722730333118 ; accuracy 0.5616\n",
      "epoch 41 : loss 11.13235132669129 ; accuracy 0.5616833333333333\n",
      "epoch 42 : loss 11.054879739110126 ; accuracy 0.5657333333333333\n",
      "epoch 43 : loss 11.015664241294896 ; accuracy 0.5669666666666666\n",
      "epoch 44 : loss 10.934360602502839 ; accuracy 0.57065\n",
      "epoch 45 : loss 10.88304990345736 ; accuracy 0.5721\n",
      "epoch 46 : loss 10.802191151900466 ; accuracy 0.5761833333333334\n",
      "epoch 47 : loss 10.748318857218143 ; accuracy 0.5776166666666667\n",
      "epoch 48 : loss 10.662158751614438 ; accuracy 0.5807\n",
      "epoch 49 : loss 10.607282623681511 ; accuracy 0.58215\n",
      "test loss 10.493008699379645 ; accuracy 0.5878\n"
     ]
    }
   ],
   "source": [
    "train_data, test_data = mnist_dataset()\n",
    "train_label = np.zeros(shape=[train_data[0].shape[0], 10])\n",
    "test_label = np.zeros(shape=[test_data[0].shape[0], 10])\n",
    "train_label[np.arange(train_data[0].shape[0]), np.array(train_data[1])] = 1.\n",
    "test_label[np.arange(test_data[0].shape[0]), np.array(test_data[1])] = 1.\n",
    "\n",
    "for epoch in range(50):\n",
    "    loss, accuracy = train_one_step(model, train_data[0], train_label)\n",
    "    print('epoch', epoch, ': loss', loss, '; accuracy', accuracy)\n",
    "loss, accuracy = test(model, test_data[0], test_label)\n",
    "\n",
    "print('test loss', loss, '; accuracy', accuracy)"
   ]
  },
  {
   "cell_type": "code",
   "execution_count": null,
   "metadata": {
    "collapsed": false
   },
   "outputs": [],
   "source": []
  }
 ],
 "metadata": {
  "kernelspec": {
   "display_name": "Python 3",
   "language": "python",
   "name": "python3"
  },
  "language_info": {
   "codemirror_mode": {
    "name": "ipython",
    "version": 3
   },
   "file_extension": ".py",
   "mimetype": "text/x-python",
   "name": "python",
   "nbconvert_exporter": "python",
   "pygments_lexer": "ipython3",
   "version": "3.10.13"
  }
 },
 "nbformat": 4,
 "nbformat_minor": 2
}
